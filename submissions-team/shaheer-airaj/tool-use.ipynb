{
 "cells": [
  {
   "cell_type": "markdown",
   "metadata": {},
   "source": [
    "# How Agents use Tools\n",
    "\n",
    "In this notebook we will take a beginners introduction into how AI Agents actually use tools.\n",
    "\n",
    "I'm hoping this will demystify the misconception that AI use tools themselves and are able to execute code and terminal commands. This is not the case as we will see soon."
   ]
  },
  {
   "cell_type": "markdown",
   "metadata": {},
   "source": [
    "### Importing Libraries"
   ]
  },
  {
   "cell_type": "code",
   "execution_count": 1,
   "metadata": {},
   "outputs": [],
   "source": [
    "import os\n",
    "import requests\n",
    "import json\n",
    "from openai import OpenAI\n",
    "from dotenv import load_dotenv\n",
    "from pprint import pprint\n",
    "\n",
    "load_dotenv()\n",
    "\n",
    "OPENAI_API_KEY = os.getenv(\"OPENAI_API_KEY\")\n",
    "if not OPENAI_API_KEY:\n",
    "    raise ValueError(\"OPENAI_API_KEY is not set\")\n",
    "\n",
    "client = OpenAI()"
   ]
  },
  {
   "cell_type": "markdown",
   "metadata": {},
   "source": [
    "### Basic chat with an LLM"
   ]
  },
  {
   "cell_type": "code",
   "execution_count": 2,
   "metadata": {},
   "outputs": [],
   "source": [
    "messages = [\n",
    "    {\"role\":\"assistant\", \"content\":\"You are a helpful assistant\"},\n",
    "    {\"role\":\"user\", \"content\":\"What is the weather in Abu Dhabi?\"}\n",
    "]"
   ]
  },
  {
   "cell_type": "code",
   "execution_count": 3,
   "metadata": {},
   "outputs": [
    {
     "name": "stdout",
     "output_type": "stream",
     "text": [
      "ChatCompletionMessage(content='I don\\'t have real-time weather data. However, you can easily check the current weather in Abu Dhabi by using a weather website, a weather app, or searching \"Abu Dhabi weather\" on a search engine. Typically, Abu Dhabi has a hot desert climate, so it\\'s often warm or hot throughout much of the year.', refusal=None, role='assistant', annotations=[], audio=None, function_call=None, tool_calls=None)\n"
     ]
    }
   ],
   "source": [
    "response = client.chat.completions.create(\n",
    "    model = 'gpt-4o-mini',\n",
    "    messages = messages\n",
    ")\n",
    "\n",
    "message = response.choices[0].message\n",
    "print(message)"
   ]
  },
  {
   "cell_type": "markdown",
   "metadata": {},
   "source": [
    "The response we get as a ChatCompletionMessage object is as follows:\n",
    "\n",
    "ChatCompletionMessage(content=\"I can't provide real-time weather updates. However, you can easily check the weather in Abu Dhabi by using a weather website or app for the most accurate and current information. Is there anything else you would like to know?\", refusal=None, role='assistant', annotations=[], audio=None, function_call=None, tool_calls=None)\n",
    "\n",
    "Notice the `content` and `tool_calls` attributes.\n",
    "\n",
    "Looking at the content, the model isn't able to get the current weather info.\n",
    "\n",
    "Let's give it a tool so it can look up the weather.\n",
    "\n",
    "The below python function calls the Open-meteo weather API to grab the details of the weather at a particular location given a latitude and longitude."
   ]
  },
  {
   "cell_type": "markdown",
   "metadata": {},
   "source": [
    "### Defining a function/tool"
   ]
  },
  {
   "cell_type": "code",
   "execution_count": 4,
   "metadata": {},
   "outputs": [],
   "source": [
    "def get_weather(latitude, longitude):\n",
    "    response = requests.get(f\"https://api.open-meteo.com/v1/forecast?latitude={latitude}&longitude={longitude}&current=temperature_2m,wind_speed_10m&hourly=temperature_2m,relative_humidity_2m,wind_speed_10m\")\n",
    "    data = response.json()\n",
    "    return data['current']['temperature_2m']"
   ]
  },
  {
   "cell_type": "markdown",
   "metadata": {},
   "source": [
    "Now that we have our function, let's let the model know that it has a tool that it can use to answer the users query.\n",
    "\n",
    "We first need to define a tool schema which is a specially structured json which tells the model exactly what the function is, the description, what are the inputs or arguments of the function and what is it's purpose.\n",
    "\n",
    "A simple structure is as follows.\n",
    "\n",
    "```json\n",
    "{\n",
    "  \"type\": \"function\",\n",
    "\n",
    "    \"function\": {\n",
    "\n",
    "        \"name\": \"get_weather\",\n",
    "        \"description\": \"Get current temperature for provided coordinates in celsius.\",\n",
    "        \"parameters\": {\n",
    "\n",
    "            \"type\": \"object\",\n",
    "            \"properties\": {\n",
    "\n",
    "                \"latitude\": {\"type\": \"number\"},\n",
    "                \"longitude\": {\"type\": \"number\"}\n",
    "\n",
    "            },\n",
    "            \"required\": [\"latitude\",\"longitude\"],\n",
    "            \"additionalProperties\": False\n",
    "\n",
    "        },\n",
    "\n",
    "        \"strict\": True\n",
    "    }\n",
    "}\n",
    "```"
   ]
  },
  {
   "cell_type": "markdown",
   "metadata": {},
   "source": [
    "The above json schema defines what function is and what are the properties (arguments) of the function.\n",
    "\n",
    "This is used by the model as context to know what tools are available to it and details of each tool.\n",
    "\n",
    "This is passed into the `tools` parameter of the chat completions api endpoint as a list of all tool schemas available to the model.\n",
    "\n",
    "Lets pass this information to our model."
   ]
  },
  {
   "cell_type": "markdown",
   "metadata": {},
   "source": [
    "### Defining the function schema"
   ]
  },
  {
   "cell_type": "code",
   "execution_count": 5,
   "metadata": {},
   "outputs": [],
   "source": [
    "tools = [{\n",
    "  \"type\": \"function\",\n",
    "\n",
    "    \"function\": {\n",
    "\n",
    "        \"name\": \"get_weather\",\n",
    "        \"description\": \"Get current temperature for provided coordinates in celsius.\",\n",
    "        \"parameters\": {\n",
    "\n",
    "            \"type\": \"object\",\n",
    "            \"properties\": {\n",
    "\n",
    "                \"latitude\": {\"type\": \"number\"},\n",
    "                \"longitude\": {\"type\": \"number\"}\n",
    "\n",
    "            },\n",
    "            \"required\": [\"latitude\",\"longitude\"],\n",
    "            \"additionalProperties\": False\n",
    "\n",
    "        },\n",
    "        \n",
    "        \"strict\": True\n",
    "    }\n",
    "}]"
   ]
  },
  {
   "cell_type": "markdown",
   "metadata": {},
   "source": [
    "Lets just print the entire message object from the model and see all the items we receive."
   ]
  },
  {
   "cell_type": "markdown",
   "metadata": {},
   "source": [
    "### Giving our LLM tools"
   ]
  },
  {
   "cell_type": "code",
   "execution_count": 6,
   "metadata": {},
   "outputs": [
    {
     "name": "stdout",
     "output_type": "stream",
     "text": [
      "ChatCompletionMessage(content=None, refusal=None, role='assistant', annotations=[], audio=None, function_call=None, tool_calls=[ChatCompletionMessageToolCall(id='call_cDl43I9m4s6e1K2GViF89oSW', function=Function(arguments='{\"latitude\":24.4534,\"longitude\":54.3773}', name='get_weather'), type='function')])\n"
     ]
    }
   ],
   "source": [
    "response = client.chat.completions.create(\n",
    "    model = 'gpt-4o-mini',\n",
    "    messages = messages,\n",
    "    tools = tools\n",
    ")\n",
    "\n",
    "message = response.choices[0].message\n",
    "print(message)"
   ]
  },
  {
   "cell_type": "markdown",
   "metadata": {},
   "source": [
    "Result:\n",
    "\n",
    "ChatCompletionMessage(content=None, refusal=None, role='assistant', annotations=[], audio=None, function_call=None, tool_calls=[ChatCompletionMessageToolCall(id='call_KKdmlg85rzBV1qm47dI9AdsM', function=Function(arguments='{\"latitude\":24.4534,\"longitude\":54.1861}', name='get_weather'), type='function')])\n",
    "\n",
    "The chat completions object no longer has any content for us, but there is something in the tools call attribute.\n",
    "\n",
    "The `tool_call` attribute contains a ChatCompletionsMessageToolCall object which has a `function` attribute giving us the details of the tool the LLM wants us to use.\n",
    "\n",
    "The model **can not** execute the tool itself, it provides us the name and arguments of the tools that need to be executed and **we** have to go and actually execute that tool.\n",
    "\n",
    "So the next step is for us to grab the details of the tool, execute the function ourselves, and provide the model with the response of that tool."
   ]
  },
  {
   "cell_type": "code",
   "execution_count": 7,
   "metadata": {},
   "outputs": [
    {
     "data": {
      "text/plain": [
       "[ChatCompletionMessageToolCall(id='call_cDl43I9m4s6e1K2GViF89oSW', function=Function(arguments='{\"latitude\":24.4534,\"longitude\":54.3773}', name='get_weather'), type='function')]"
      ]
     },
     "execution_count": 7,
     "metadata": {},
     "output_type": "execute_result"
    }
   ],
   "source": [
    "message.tool_calls"
   ]
  },
  {
   "cell_type": "code",
   "execution_count": 8,
   "metadata": {},
   "outputs": [
    {
     "name": "stdout",
     "output_type": "stream",
     "text": [
      "24.9\n"
     ]
    }
   ],
   "source": [
    "tool_call = message.tool_calls[0]\n",
    "args = json.loads(tool_call.function.arguments)\n",
    "\n",
    "result = get_weather(args[\"latitude\"], args[\"longitude\"])\n",
    "print(result)"
   ]
  },
  {
   "cell_type": "markdown",
   "metadata": {},
   "source": [
    "The temperature in Abu Dhabi is 25.2 according to the result of the tool call.\n",
    "\n",
    "This now needs to be formatted into a tool call result message and passed into the messages list as follows."
   ]
  },
  {
   "cell_type": "code",
   "execution_count": 9,
   "metadata": {},
   "outputs": [
    {
     "name": "stdout",
     "output_type": "stream",
     "text": [
      "[{'content': 'You are a helpful assistant', 'role': 'assistant'},\n",
      " {'content': 'What is the weather in Abu Dhabi?', 'role': 'user'},\n",
      " ChatCompletionMessage(content=None, refusal=None, role='assistant', annotations=[], audio=None, function_call=None, tool_calls=[ChatCompletionMessageToolCall(id='call_cDl43I9m4s6e1K2GViF89oSW', function=Function(arguments='{\"latitude\":24.4534,\"longitude\":54.3773}', name='get_weather'), type='function')]),\n",
      " {'content': '24.9',\n",
      "  'role': 'tool',\n",
      "  'tool_call_id': 'call_cDl43I9m4s6e1K2GViF89oSW'}]\n"
     ]
    }
   ],
   "source": [
    "messages.append(message)            # append the models tool call message\n",
    "messages.append({                   # append result message\n",
    "    \"role\":\"tool\",\n",
    "    \"tool_call_id\":tool_call.id,\n",
    "    \"content\":str(result)\n",
    "})\n",
    "\n",
    "pprint(messages)"
   ]
  },
  {
   "cell_type": "code",
   "execution_count": 10,
   "metadata": {},
   "outputs": [
    {
     "name": "stdout",
     "output_type": "stream",
     "text": [
      "The current temperature in Abu Dhabi is 24.9°C.\n"
     ]
    }
   ],
   "source": [
    "response = client.chat.completions.create(\n",
    "    model = 'gpt-4o-mini',\n",
    "    messages = messages,\n",
    "    tools = tools\n",
    ")\n",
    "\n",
    "message = response.choices[0].message.content\n",
    "print(message)"
   ]
  },
  {
   "cell_type": "markdown",
   "metadata": {},
   "source": []
  },
  {
   "cell_type": "code",
   "execution_count": null,
   "metadata": {},
   "outputs": [],
   "source": []
  }
 ],
 "metadata": {
  "kernelspec": {
   "display_name": ".venv",
   "language": "python",
   "name": "python3"
  },
  "language_info": {
   "codemirror_mode": {
    "name": "ipython",
    "version": 3
   },
   "file_extension": ".py",
   "mimetype": "text/x-python",
   "name": "python",
   "nbconvert_exporter": "python",
   "pygments_lexer": "ipython3",
   "version": "3.12.9"
  }
 },
 "nbformat": 4,
 "nbformat_minor": 2
}
